{
 "cells": [
  {
   "cell_type": "code",
   "execution_count": 12,
   "id": "c14af9c0-1360-4911-bb72-85cbb5212100",
   "metadata": {},
   "outputs": [],
   "source": [
    "import pandas as pd\n",
    "from sklearn.model_selection import train_test_split\n",
    "from sklearn.preprocessing import LabelEncoder\n",
    "from sklearn.impute import SimpleImputer\n",
    "from sklearn.ensemble import RandomForestClassifier\n",
    "from sklearn.metrics import accuracy_score, confusion_matrix, classification_report\n",
    "\n",
    "# Load dataset\n",
    "df = pd.read_csv(\"loan_prediction.csv\")\n",
    "\n",
    "# Drop Loan_ID (not useful)\n",
    "df.drop(\"Loan_ID\", axis=1, inplace=True)"
   ]
  },
  {
   "cell_type": "code",
   "execution_count": null,
   "id": "2a2e1f44-a423-4354-9174-d21aa5ff6174",
   "metadata": {},
   "outputs": [],
   "source": [
    "# Separate numerical and categorical columns\n",
    "num_cols = df.select_dtypes(include=['int64', 'float64']).columns.tolist()\n",
    "cat_cols = df.select_dtypes(include=['object']).columns.tolist()\n",
    "cat_cols.remove(\"Loan_Status\")  "
   ]
  },
  {
   "cell_type": "code",
   "execution_count": null,
   "id": "09fb43e0-38a8-40c7-91a2-f4065d3071ab",
   "metadata": {},
   "outputs": [],
   "source": []
  },
  {
   "cell_type": "code",
   "execution_count": 14,
   "id": "a73b9876-13ec-4d69-8e27-e2ddad9958e2",
   "metadata": {},
   "outputs": [
    {
     "name": "stdout",
     "output_type": "stream",
     "text": [
      "✅ Accuracy: 0.7560975609756098\n",
      "\n",
      "📊 Confusion Matrix:\n",
      " [[18 25]\n",
      " [ 5 75]]\n",
      "\n",
      "📝 Classification Report:\n",
      "               precision    recall  f1-score   support\n",
      "\n",
      "           0       0.78      0.42      0.55        43\n",
      "           1       0.75      0.94      0.83        80\n",
      "\n",
      "    accuracy                           0.76       123\n",
      "   macro avg       0.77      0.68      0.69       123\n",
      "weighted avg       0.76      0.76      0.73       123\n",
      "\n"
     ]
    }
   ],
   "source": [
    "\n",
    "# Handle missing values\n",
    "num_imputer = SimpleImputer(strategy='median')\n",
    "df[num_cols] = num_imputer.fit_transform(df[num_cols])\n",
    "\n",
    "cat_imputer = SimpleImputer(strategy='most_frequent')\n",
    "df[cat_cols + ['Loan_Status']] = cat_imputer.fit_transform(df[cat_cols + ['Loan_Status']])\n",
    "\n",
    "# Label encode categorical columns\n",
    "label_encoders = {}\n",
    "for col in cat_cols + ['Loan_Status']:\n",
    "    le = LabelEncoder()\n",
    "    df[col] = le.fit_transform(df[col])\n",
    "    label_encoders[col] = le\n",
    "\n",
    "# Split features and target\n",
    "X = df.drop(\"Loan_Status\", axis=1)\n",
    "y = df[\"Loan_Status\"]\n",
    "\n",
    "# Split data\n",
    "X_train, X_test, y_train, y_test = train_test_split(X, y, test_size=0.2, random_state=42)\n",
    "\n",
    "# Train model\n",
    "model = RandomForestClassifier(n_estimators=100, random_state=42)\n",
    "model.fit(X_train, y_train)\n",
    "\n",
    "# Evaluate\n",
    "y_pred = model.predict(X_test)\n",
    "print(\"✅ Accuracy:\", accuracy_score(y_test, y_pred))\n",
    "print(\"\\n📊 Confusion Matrix:\\n\", confusion_matrix(y_test, y_pred))\n",
    "print(\"\\n📝 Classification Report:\\n\", classification_report(y_test, y_pred))\n",
    "\n",
    "# ------------------------------------\n",
    "# ✅ Prediction function for new data\n",
    "# ------------------------------------\n",
    "def predict_loan_status(applicant_data):\n",
    "    input_df = pd.DataFrame([applicant_data])\n",
    "\n",
    "    # Impute missing numeric values\n",
    "    input_df[num_cols] = num_imputer.transform(input_df[num_cols])\n",
    "\n",
    "    # Label encode categorical columns\n",
    "    for col in cat_cols:\n",
    "        input_df[col] = label_encoders[col].transform(input_df[col])\n",
    "\n",
    "    # Predict\n",
    "    pred = model.predict(input_df)[0]\n",
    "    decision = label_encoders[\"Loan_Status\"].inverse_transform([pred])[0]\n",
    "\n",
    "    if decision == 'Y':\n",
    "        print(\"✅ Loan Approved\")\n",
    "    else:\n",
    "        print(\"❌ Loan Rejected\")\n"
   ]
  },
  {
   "cell_type": "code",
   "execution_count": 13,
   "id": "48954245-eeaa-4a4b-a043-f00048082a4a",
   "metadata": {},
   "outputs": [],
   "source": [
    "# ------------------------------------\n",
    "# 🔍 Make a sample prediction\n",
    "# ------------------------------------"
   ]
  },
  {
   "cell_type": "code",
   "execution_count": 10,
   "id": "61d6cd45-ceb0-4078-b366-6363b318ae40",
   "metadata": {},
   "outputs": [
    {
     "name": "stdout",
     "output_type": "stream",
     "text": [
      "✅ Loan Approved\n"
     ]
    }
   ],
   "source": [
    "predict_loan_status({\n",
    "    'Gender': 'Male',\n",
    "    'Married': 'Yes',\n",
    "    'Dependents': '1',\n",
    "    'Education': 'Graduate',\n",
    "    'Self_Employed': 'No',\n",
    "    'ApplicantIncome': 5000,\n",
    "    'CoapplicantIncome': 2000.0,\n",
    "    'LoanAmount': 150.0,\n",
    "    'Loan_Amount_Term': 360.0,\n",
    "    'Credit_History': 1.0,\n",
    "    'Property_Area': 'Urban'\n",
    "})"
   ]
  },
  {
   "cell_type": "code",
   "execution_count": 11,
   "id": "136c4e7f-aad2-423b-8025-6c7acaedcd1b",
   "metadata": {},
   "outputs": [
    {
     "name": "stdout",
     "output_type": "stream",
     "text": [
      "❌ Loan Rejected\n"
     ]
    }
   ],
   "source": [
    "predict_loan_status({\n",
    "    'Gender': 'Female',\n",
    "    'Married': 'No',\n",
    "    'Dependents': '0',\n",
    "    'Education': 'Not Graduate',\n",
    "    'Self_Employed': 'Yes',\n",
    "    'ApplicantIncome': 1000,          \n",
    "    'CoapplicantIncome': 0.0,\n",
    "    'LoanAmount': 250.0,               \n",
    "    'Loan_Amount_Term': 360.0,\n",
    "    'Credit_History': 0.0,            \n",
    "    'Property_Area': 'Rural'\n",
    "})\n",
    "\n"
   ]
  }
 ],
 "metadata": {
  "kernelspec": {
   "display_name": "Python 3 (ipykernel)",
   "language": "python",
   "name": "python3"
  },
  "language_info": {
   "codemirror_mode": {
    "name": "ipython",
    "version": 3
   },
   "file_extension": ".py",
   "mimetype": "text/x-python",
   "name": "python",
   "nbconvert_exporter": "python",
   "pygments_lexer": "ipython3",
   "version": "3.13.1"
  }
 },
 "nbformat": 4,
 "nbformat_minor": 5
}
